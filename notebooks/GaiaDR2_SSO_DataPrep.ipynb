{
 "cells": [
  {
   "cell_type": "markdown",
   "metadata": {},
   "source": [
    "# Fun with Gaia DR2 Solar System Objects\n",
    "\n",
    "Woo! Solar System objects in Gaia DR2! With data from SDSS and the MPC"
   ]
  },
  {
   "cell_type": "code",
   "execution_count": 1,
   "metadata": {},
   "outputs": [
    {
     "data": {
      "text/plain": [
       "DataTransformerRegistry.enable('default')"
      ]
     },
     "execution_count": 1,
     "metadata": {},
     "output_type": "execute_result"
    }
   ],
   "source": [
    "import altair as alt\n",
    "alt.renderers.enable('notebook')\n",
    "from altair import datum\n",
    "\n",
    "import numpy as np\n",
    "import pandas as pd\n",
    "\n",
    "alt.data_transformers.enable('json')\n",
    "alt.data_transformers.enable('default', max_rows=None)"
   ]
  },
  {
   "cell_type": "markdown",
   "metadata": {},
   "source": [
    "You should have downloaded the Gaia SSO files in CSV.\n",
    "\n",
    "Here's the directory I have them in, but you substitute your own:"
   ]
  },
  {
   "cell_type": "code",
   "execution_count": 2,
   "metadata": {},
   "outputs": [],
   "source": [
    "datadir = \"/Users/danielahuppenkothen/work/data/gaiadr2_sso/\""
   ]
  },
  {
   "cell_type": "markdown",
   "metadata": {},
   "source": [
    "There should be four files with observations, and four files with information about the asteroids themselves. Let's load them all and merge them together.\n",
    "\n",
    "We're going to read the data into pandas DataFrames."
   ]
  },
  {
   "cell_type": "code",
   "execution_count": 3,
   "metadata": {},
   "outputs": [],
   "source": [
    "filenames = [\"SsoObservation_-4284702096_-4283326086.csv\",\n",
    "             \"SsoObservation_-4284857946_-4284702156.csv\",\n",
    "             \"SsoObservation_-4284922936_-4284857966.csv\", \n",
    "             \"SsoObservation_-4284967216_-4284922946.csv\"]"
   ]
  },
  {
   "cell_type": "code",
   "execution_count": 4,
   "metadata": {},
   "outputs": [],
   "source": [
    "for i,f in enumerate(filenames):\n",
    "    # load the data file\n",
    "    data = pd.read_csv(datadir+f)\n",
    "    # find all data points that don't have \n",
    "    # a NaN in their g-band magnitude\n",
    "    idx = data[\"g_mag\"].dropna().index\n",
    "    data_nonan = data.loc[idx]\n",
    "    if i == 0:\n",
    "        data_merged = data_nonan\n",
    "    else:\n",
    "        data_merged = pd.concat([data_merged, data_nonan])"
   ]
  },
  {
   "cell_type": "code",
   "execution_count": 5,
   "metadata": {},
   "outputs": [
    {
     "data": {
      "text/plain": [
       "1030866"
      ]
     },
     "execution_count": 5,
     "metadata": {},
     "output_type": "execute_result"
    }
   ],
   "source": [
    "len(data_merged)"
   ]
  },
  {
   "cell_type": "code",
   "execution_count": 6,
   "metadata": {},
   "outputs": [
    {
     "data": {
      "text/html": [
       "<div>\n",
       "<style scoped>\n",
       "    .dataframe tbody tr th:only-of-type {\n",
       "        vertical-align: middle;\n",
       "    }\n",
       "\n",
       "    .dataframe tbody tr th {\n",
       "        vertical-align: top;\n",
       "    }\n",
       "\n",
       "    .dataframe thead th {\n",
       "        text-align: right;\n",
       "    }\n",
       "</style>\n",
       "<table border=\"1\" class=\"dataframe\">\n",
       "  <thead>\n",
       "    <tr style=\"text-align: right;\">\n",
       "      <th></th>\n",
       "      <th>solution_id</th>\n",
       "      <th>source_id</th>\n",
       "      <th>observation_id</th>\n",
       "      <th>number_mp</th>\n",
       "      <th>epoch</th>\n",
       "      <th>epoch_err</th>\n",
       "      <th>epoch_utc</th>\n",
       "      <th>ra</th>\n",
       "      <th>dec</th>\n",
       "      <th>ra_error_systematic</th>\n",
       "      <th>...</th>\n",
       "      <th>g_flux</th>\n",
       "      <th>g_flux_error</th>\n",
       "      <th>x_gaia</th>\n",
       "      <th>y_gaia</th>\n",
       "      <th>z_gaia</th>\n",
       "      <th>vx_gaia</th>\n",
       "      <th>vy_gaia</th>\n",
       "      <th>vz_gaia</th>\n",
       "      <th>position_angle_scan</th>\n",
       "      <th>level_of_confidence</th>\n",
       "    </tr>\n",
       "  </thead>\n",
       "  <tbody>\n",
       "    <tr>\n",
       "      <th>5</th>\n",
       "      <td>4427920383700574337</td>\n",
       "      <td>-4284702096</td>\n",
       "      <td>406576829521238051</td>\n",
       "      <td>26520</td>\n",
       "      <td>2132.117075</td>\n",
       "      <td>1.137500e-08</td>\n",
       "      <td>2132.116066</td>\n",
       "      <td>338.836562</td>\n",
       "      <td>-27.330300</td>\n",
       "      <td>8.342880</td>\n",
       "      <td>...</td>\n",
       "      <td>3535.764628</td>\n",
       "      <td>11.155904</td>\n",
       "      <td>0.768081</td>\n",
       "      <td>0.595093</td>\n",
       "      <td>0.257915</td>\n",
       "      <td>-0.011501</td>\n",
       "      <td>0.012148</td>\n",
       "      <td>0.005222</td>\n",
       "      <td>289.327370</td>\n",
       "      <td>0</td>\n",
       "    </tr>\n",
       "    <tr>\n",
       "      <th>6</th>\n",
       "      <td>4427920383700574337</td>\n",
       "      <td>-4284702096</td>\n",
       "      <td>406576829521238052</td>\n",
       "      <td>26520</td>\n",
       "      <td>2132.117132</td>\n",
       "      <td>1.137500e-08</td>\n",
       "      <td>2132.116123</td>\n",
       "      <td>338.836575</td>\n",
       "      <td>-27.330279</td>\n",
       "      <td>8.342881</td>\n",
       "      <td>...</td>\n",
       "      <td>3535.764628</td>\n",
       "      <td>11.155904</td>\n",
       "      <td>0.768080</td>\n",
       "      <td>0.595094</td>\n",
       "      <td>0.257915</td>\n",
       "      <td>-0.011501</td>\n",
       "      <td>0.012148</td>\n",
       "      <td>0.005222</td>\n",
       "      <td>289.327470</td>\n",
       "      <td>0</td>\n",
       "    </tr>\n",
       "    <tr>\n",
       "      <th>7</th>\n",
       "      <td>4427920383700574337</td>\n",
       "      <td>-4284702096</td>\n",
       "      <td>406576829521238053</td>\n",
       "      <td>26520</td>\n",
       "      <td>2132.117188</td>\n",
       "      <td>1.137500e-08</td>\n",
       "      <td>2132.116179</td>\n",
       "      <td>338.836586</td>\n",
       "      <td>-27.330262</td>\n",
       "      <td>8.342882</td>\n",
       "      <td>...</td>\n",
       "      <td>3535.764628</td>\n",
       "      <td>11.155904</td>\n",
       "      <td>0.768080</td>\n",
       "      <td>0.595094</td>\n",
       "      <td>0.257916</td>\n",
       "      <td>-0.011501</td>\n",
       "      <td>0.012148</td>\n",
       "      <td>0.005222</td>\n",
       "      <td>289.327572</td>\n",
       "      <td>0</td>\n",
       "    </tr>\n",
       "    <tr>\n",
       "      <th>8</th>\n",
       "      <td>4427920383700574337</td>\n",
       "      <td>-4284702096</td>\n",
       "      <td>406576829521238054</td>\n",
       "      <td>26520</td>\n",
       "      <td>2132.117244</td>\n",
       "      <td>1.137500e-08</td>\n",
       "      <td>2132.116235</td>\n",
       "      <td>338.836580</td>\n",
       "      <td>-27.330289</td>\n",
       "      <td>8.342881</td>\n",
       "      <td>...</td>\n",
       "      <td>3535.764628</td>\n",
       "      <td>11.155904</td>\n",
       "      <td>0.768079</td>\n",
       "      <td>0.595095</td>\n",
       "      <td>0.257916</td>\n",
       "      <td>-0.011501</td>\n",
       "      <td>0.012148</td>\n",
       "      <td>0.005222</td>\n",
       "      <td>289.327681</td>\n",
       "      <td>0</td>\n",
       "    </tr>\n",
       "    <tr>\n",
       "      <th>9</th>\n",
       "      <td>4427920383700574337</td>\n",
       "      <td>-4284702096</td>\n",
       "      <td>406576829521238055</td>\n",
       "      <td>26520</td>\n",
       "      <td>2132.117300</td>\n",
       "      <td>1.137500e-08</td>\n",
       "      <td>2132.116291</td>\n",
       "      <td>338.836592</td>\n",
       "      <td>-27.330271</td>\n",
       "      <td>8.342882</td>\n",
       "      <td>...</td>\n",
       "      <td>3535.764628</td>\n",
       "      <td>11.155904</td>\n",
       "      <td>0.768079</td>\n",
       "      <td>0.595096</td>\n",
       "      <td>0.257916</td>\n",
       "      <td>-0.011501</td>\n",
       "      <td>0.012148</td>\n",
       "      <td>0.005222</td>\n",
       "      <td>289.327782</td>\n",
       "      <td>0</td>\n",
       "    </tr>\n",
       "  </tbody>\n",
       "</table>\n",
       "<p>5 rows × 26 columns</p>\n",
       "</div>"
      ],
      "text/plain": [
       "           solution_id   source_id      observation_id  number_mp  \\\n",
       "5  4427920383700574337 -4284702096  406576829521238051      26520   \n",
       "6  4427920383700574337 -4284702096  406576829521238052      26520   \n",
       "7  4427920383700574337 -4284702096  406576829521238053      26520   \n",
       "8  4427920383700574337 -4284702096  406576829521238054      26520   \n",
       "9  4427920383700574337 -4284702096  406576829521238055      26520   \n",
       "\n",
       "         epoch     epoch_err    epoch_utc          ra        dec  \\\n",
       "5  2132.117075  1.137500e-08  2132.116066  338.836562 -27.330300   \n",
       "6  2132.117132  1.137500e-08  2132.116123  338.836575 -27.330279   \n",
       "7  2132.117188  1.137500e-08  2132.116179  338.836586 -27.330262   \n",
       "8  2132.117244  1.137500e-08  2132.116235  338.836580 -27.330289   \n",
       "9  2132.117300  1.137500e-08  2132.116291  338.836592 -27.330271   \n",
       "\n",
       "   ra_error_systematic         ...                g_flux  g_flux_error  \\\n",
       "5             8.342880         ...           3535.764628     11.155904   \n",
       "6             8.342881         ...           3535.764628     11.155904   \n",
       "7             8.342882         ...           3535.764628     11.155904   \n",
       "8             8.342881         ...           3535.764628     11.155904   \n",
       "9             8.342882         ...           3535.764628     11.155904   \n",
       "\n",
       "     x_gaia    y_gaia    z_gaia   vx_gaia   vy_gaia   vz_gaia  \\\n",
       "5  0.768081  0.595093  0.257915 -0.011501  0.012148  0.005222   \n",
       "6  0.768080  0.595094  0.257915 -0.011501  0.012148  0.005222   \n",
       "7  0.768080  0.595094  0.257916 -0.011501  0.012148  0.005222   \n",
       "8  0.768079  0.595095  0.257916 -0.011501  0.012148  0.005222   \n",
       "9  0.768079  0.595096  0.257916 -0.011501  0.012148  0.005222   \n",
       "\n",
       "   position_angle_scan  level_of_confidence  \n",
       "5           289.327370                    0  \n",
       "6           289.327470                    0  \n",
       "7           289.327572                    0  \n",
       "8           289.327681                    0  \n",
       "9           289.327782                    0  \n",
       "\n",
       "[5 rows x 26 columns]"
      ]
     },
     "execution_count": 6,
     "metadata": {},
     "output_type": "execute_result"
    }
   ],
   "source": [
    "data_merged.head()"
   ]
  },
  {
   "cell_type": "markdown",
   "metadata": {},
   "source": [
    "This table contains a row for each *observation* of an asteroid. That is, this is essentially just a giant list of time series, appended to each other. You can get out a single time series (light curve in astronomy-speak) by grouping by a column that will be the same for a given asteroid (but unique compared to other asteroids). I'd suggest using the `number_mp` column. We'll get back to that later!\n",
    "\n",
    "Let's drop some columns we won't need in the future:"
   ]
  },
  {
   "cell_type": "code",
   "execution_count": 7,
   "metadata": {},
   "outputs": [],
   "source": [
    "data_merged = data_merged.drop(['dec_error_random',  'dec_error_systematic', 'epoch_utc',\n",
    "                               'epoch_utc', 'ra_dec_correlation_random',\n",
    "                                \"solution_id\", \"source_id\", \"observation_id\", \"epoch_err\", \"level_of_confidence\",\n",
    "                               'ra_dec_correlation_systematic', 'ra_error_random', \n",
    "                               'ra_error_systematic','vx_gaia', 'vy_gaia',\n",
    "                               'vz_gaia', 'x_gaia', 'y_gaia', 'z_gaia'], axis=1)"
   ]
  },
  {
   "cell_type": "markdown",
   "metadata": {},
   "source": [
    "Let's do the same for the source information:"
   ]
  },
  {
   "cell_type": "code",
   "execution_count": 8,
   "metadata": {},
   "outputs": [],
   "source": [
    "src_filenames = [\"SsoSource_-4284702096_-4283326086.csv\",\n",
    "                 \"SsoSource_-4284857946_-4284702156.csv\",\n",
    "                 \"SsoSource_-4284922936_-4284857966.csv\",\n",
    "                 \"SsoSource_-4284967216_-4284922946.csv\"]"
   ]
  },
  {
   "cell_type": "code",
   "execution_count": 9,
   "metadata": {},
   "outputs": [],
   "source": [
    "for i,f in enumerate(src_filenames):\n",
    "    # load the data file\n",
    "    source = pd.read_csv(datadir+f)\n",
    "    # find all data points that don't have \n",
    "    # a NaN in their g-band magnitude\n",
    "    source_nonan = source.dropna()\n",
    "    if i == 0:\n",
    "        source_merged = source_nonan\n",
    "    else:\n",
    "        source_merged = pd.concat([source_merged, source_nonan])"
   ]
  },
  {
   "cell_type": "code",
   "execution_count": 10,
   "metadata": {},
   "outputs": [
    {
     "data": {
      "text/html": [
       "<div>\n",
       "<style scoped>\n",
       "    .dataframe tbody tr th:only-of-type {\n",
       "        vertical-align: middle;\n",
       "    }\n",
       "\n",
       "    .dataframe tbody tr th {\n",
       "        vertical-align: top;\n",
       "    }\n",
       "\n",
       "    .dataframe thead th {\n",
       "        text-align: right;\n",
       "    }\n",
       "</style>\n",
       "<table border=\"1\" class=\"dataframe\">\n",
       "  <thead>\n",
       "    <tr style=\"text-align: right;\">\n",
       "      <th></th>\n",
       "      <th>solution_id</th>\n",
       "      <th>source_id</th>\n",
       "      <th>num_of_obs</th>\n",
       "      <th>number_mp</th>\n",
       "      <th>denomination</th>\n",
       "    </tr>\n",
       "  </thead>\n",
       "  <tbody>\n",
       "    <tr>\n",
       "      <th>0</th>\n",
       "      <td>4166707207534977073</td>\n",
       "      <td>-4284967216</td>\n",
       "      <td>60</td>\n",
       "      <td>8</td>\n",
       "      <td>flora</td>\n",
       "    </tr>\n",
       "    <tr>\n",
       "      <th>1</th>\n",
       "      <td>4166707207534977073</td>\n",
       "      <td>-4284967156</td>\n",
       "      <td>79</td>\n",
       "      <td>14</td>\n",
       "      <td>irene</td>\n",
       "    </tr>\n",
       "    <tr>\n",
       "      <th>2</th>\n",
       "      <td>4166707207534977073</td>\n",
       "      <td>-4284967126</td>\n",
       "      <td>68</td>\n",
       "      <td>17</td>\n",
       "      <td>thetis</td>\n",
       "    </tr>\n",
       "    <tr>\n",
       "      <th>3</th>\n",
       "      <td>4166707207534977073</td>\n",
       "      <td>-4284967106</td>\n",
       "      <td>67</td>\n",
       "      <td>19</td>\n",
       "      <td>fortuna</td>\n",
       "    </tr>\n",
       "    <tr>\n",
       "      <th>4</th>\n",
       "      <td>4166707207534977073</td>\n",
       "      <td>-4284967086</td>\n",
       "      <td>85</td>\n",
       "      <td>21</td>\n",
       "      <td>lutetia</td>\n",
       "    </tr>\n",
       "  </tbody>\n",
       "</table>\n",
       "</div>"
      ],
      "text/plain": [
       "           solution_id   source_id  num_of_obs  number_mp denomination\n",
       "0  4166707207534977073 -4284967216          60          8        flora\n",
       "1  4166707207534977073 -4284967156          79         14        irene\n",
       "2  4166707207534977073 -4284967126          68         17       thetis\n",
       "3  4166707207534977073 -4284967106          67         19      fortuna\n",
       "4  4166707207534977073 -4284967086          85         21      lutetia"
      ]
     },
     "execution_count": 10,
     "metadata": {},
     "output_type": "execute_result"
    }
   ],
   "source": [
    "source.head()"
   ]
  },
  {
   "cell_type": "markdown",
   "metadata": {},
   "source": [
    "We're going to reset the index of our DataFrame to `number_mp`, which is the Minor Planet Center designation. We'll use that to match up these objects with other sources. \n",
    "\n",
    "From the source table, we really want the `num_of_obs` (the number of times Gaia observed this asteroid) and the `denomination` (the common name of the asteroid):"
   ]
  },
  {
   "cell_type": "code",
   "execution_count": 11,
   "metadata": {},
   "outputs": [],
   "source": [
    "source_merged = source_merged.set_index(\"number_mp\")"
   ]
  },
  {
   "cell_type": "markdown",
   "metadata": {},
   "source": [
    "Let's now join the source table and the data table:"
   ]
  },
  {
   "cell_type": "code",
   "execution_count": 12,
   "metadata": {},
   "outputs": [],
   "source": [
    "data_merged = data_merged.join(source_merged[[\"num_of_obs\", \"denomination\"]], how=\"right\", on=\"number_mp\", lsuffix=\"_obs\", rsuffix=\"_src\")"
   ]
  },
  {
   "cell_type": "code",
   "execution_count": 13,
   "metadata": {},
   "outputs": [
    {
     "data": {
      "text/html": [
       "<div>\n",
       "<style scoped>\n",
       "    .dataframe tbody tr th:only-of-type {\n",
       "        vertical-align: middle;\n",
       "    }\n",
       "\n",
       "    .dataframe tbody tr th {\n",
       "        vertical-align: top;\n",
       "    }\n",
       "\n",
       "    .dataframe thead th {\n",
       "        text-align: right;\n",
       "    }\n",
       "</style>\n",
       "<table border=\"1\" class=\"dataframe\">\n",
       "  <thead>\n",
       "    <tr style=\"text-align: right;\">\n",
       "      <th></th>\n",
       "      <th>number_mp</th>\n",
       "      <th>epoch</th>\n",
       "      <th>ra</th>\n",
       "      <th>dec</th>\n",
       "      <th>g_mag</th>\n",
       "      <th>g_flux</th>\n",
       "      <th>g_flux_error</th>\n",
       "      <th>position_angle_scan</th>\n",
       "      <th>num_of_obs</th>\n",
       "      <th>denomination</th>\n",
       "    </tr>\n",
       "  </thead>\n",
       "  <tbody>\n",
       "    <tr>\n",
       "      <th>5</th>\n",
       "      <td>26520</td>\n",
       "      <td>2132.117075</td>\n",
       "      <td>338.836562</td>\n",
       "      <td>-27.330300</td>\n",
       "      <td>16.817157</td>\n",
       "      <td>3535.764628</td>\n",
       "      <td>11.155904</td>\n",
       "      <td>289.327370</td>\n",
       "      <td>87</td>\n",
       "      <td>2000 cq75</td>\n",
       "    </tr>\n",
       "    <tr>\n",
       "      <th>6</th>\n",
       "      <td>26520</td>\n",
       "      <td>2132.117132</td>\n",
       "      <td>338.836575</td>\n",
       "      <td>-27.330279</td>\n",
       "      <td>16.817157</td>\n",
       "      <td>3535.764628</td>\n",
       "      <td>11.155904</td>\n",
       "      <td>289.327470</td>\n",
       "      <td>87</td>\n",
       "      <td>2000 cq75</td>\n",
       "    </tr>\n",
       "    <tr>\n",
       "      <th>7</th>\n",
       "      <td>26520</td>\n",
       "      <td>2132.117188</td>\n",
       "      <td>338.836586</td>\n",
       "      <td>-27.330262</td>\n",
       "      <td>16.817157</td>\n",
       "      <td>3535.764628</td>\n",
       "      <td>11.155904</td>\n",
       "      <td>289.327572</td>\n",
       "      <td>87</td>\n",
       "      <td>2000 cq75</td>\n",
       "    </tr>\n",
       "    <tr>\n",
       "      <th>8</th>\n",
       "      <td>26520</td>\n",
       "      <td>2132.117244</td>\n",
       "      <td>338.836580</td>\n",
       "      <td>-27.330289</td>\n",
       "      <td>16.817157</td>\n",
       "      <td>3535.764628</td>\n",
       "      <td>11.155904</td>\n",
       "      <td>289.327681</td>\n",
       "      <td>87</td>\n",
       "      <td>2000 cq75</td>\n",
       "    </tr>\n",
       "    <tr>\n",
       "      <th>9</th>\n",
       "      <td>26520</td>\n",
       "      <td>2132.117300</td>\n",
       "      <td>338.836592</td>\n",
       "      <td>-27.330271</td>\n",
       "      <td>16.817157</td>\n",
       "      <td>3535.764628</td>\n",
       "      <td>11.155904</td>\n",
       "      <td>289.327782</td>\n",
       "      <td>87</td>\n",
       "      <td>2000 cq75</td>\n",
       "    </tr>\n",
       "  </tbody>\n",
       "</table>\n",
       "</div>"
      ],
      "text/plain": [
       "   number_mp        epoch          ra        dec      g_mag       g_flux  \\\n",
       "5      26520  2132.117075  338.836562 -27.330300  16.817157  3535.764628   \n",
       "6      26520  2132.117132  338.836575 -27.330279  16.817157  3535.764628   \n",
       "7      26520  2132.117188  338.836586 -27.330262  16.817157  3535.764628   \n",
       "8      26520  2132.117244  338.836580 -27.330289  16.817157  3535.764628   \n",
       "9      26520  2132.117300  338.836592 -27.330271  16.817157  3535.764628   \n",
       "\n",
       "   g_flux_error  position_angle_scan  num_of_obs denomination  \n",
       "5     11.155904           289.327370          87    2000 cq75  \n",
       "6     11.155904           289.327470          87    2000 cq75  \n",
       "7     11.155904           289.327572          87    2000 cq75  \n",
       "8     11.155904           289.327681          87    2000 cq75  \n",
       "9     11.155904           289.327782          87    2000 cq75  "
      ]
     },
     "execution_count": 13,
     "metadata": {},
     "output_type": "execute_result"
    }
   ],
   "source": [
    "data_merged.head()"
   ]
  },
  {
   "cell_type": "markdown",
   "metadata": {},
   "source": [
    "Cool! That table now also has the `number_of_obs` and `denomination` columns included!\n",
    "\n",
    "However, note that the original tables contain a fair number of `NaN` values in the g-band magnitudes, which we've removed. This means that the number of *actual* data points per asteroid is smaller than the `number_of_obs` column suggests. \n",
    "\n",
    "Let's calculate the actual number of data points per asteroid:"
   ]
  },
  {
   "cell_type": "code",
   "execution_count": 14,
   "metadata": {},
   "outputs": [],
   "source": [
    "sourceid_counts = data_merged[[\"number_mp\"]].groupby(\"number_mp\").size().reset_index(name='counts')"
   ]
  },
  {
   "cell_type": "code",
   "execution_count": 15,
   "metadata": {},
   "outputs": [
    {
     "data": {
      "text/html": [
       "<div>\n",
       "<style scoped>\n",
       "    .dataframe tbody tr th:only-of-type {\n",
       "        vertical-align: middle;\n",
       "    }\n",
       "\n",
       "    .dataframe tbody tr th {\n",
       "        vertical-align: top;\n",
       "    }\n",
       "\n",
       "    .dataframe thead th {\n",
       "        text-align: right;\n",
       "    }\n",
       "</style>\n",
       "<table border=\"1\" class=\"dataframe\">\n",
       "  <thead>\n",
       "    <tr style=\"text-align: right;\">\n",
       "      <th></th>\n",
       "      <th>number_mp</th>\n",
       "      <th>counts</th>\n",
       "    </tr>\n",
       "  </thead>\n",
       "  <tbody>\n",
       "    <tr>\n",
       "      <th>0</th>\n",
       "      <td>8</td>\n",
       "      <td>46</td>\n",
       "    </tr>\n",
       "    <tr>\n",
       "      <th>1</th>\n",
       "      <td>14</td>\n",
       "      <td>67</td>\n",
       "    </tr>\n",
       "    <tr>\n",
       "      <th>2</th>\n",
       "      <td>17</td>\n",
       "      <td>44</td>\n",
       "    </tr>\n",
       "    <tr>\n",
       "      <th>3</th>\n",
       "      <td>19</td>\n",
       "      <td>56</td>\n",
       "    </tr>\n",
       "    <tr>\n",
       "      <th>4</th>\n",
       "      <td>21</td>\n",
       "      <td>45</td>\n",
       "    </tr>\n",
       "  </tbody>\n",
       "</table>\n",
       "</div>"
      ],
      "text/plain": [
       "   number_mp  counts\n",
       "0          8      46\n",
       "1         14      67\n",
       "2         17      44\n",
       "3         19      56\n",
       "4         21      45"
      ]
     },
     "execution_count": 15,
     "metadata": {},
     "output_type": "execute_result"
    }
   ],
   "source": [
    "sourceid_counts.head()"
   ]
  },
  {
   "cell_type": "code",
   "execution_count": 16,
   "metadata": {},
   "outputs": [
    {
     "data": {
      "text/plain": [
       "73.12461876728845"
      ]
     },
     "execution_count": 16,
     "metadata": {},
     "output_type": "execute_result"
    }
   ],
   "source": [
    "np.mean(sourceid_counts.counts)"
   ]
  },
  {
   "cell_type": "code",
   "execution_count": 17,
   "metadata": {},
   "outputs": [
    {
     "data": {
      "text/plain": [
       "2652.174625493029"
      ]
     },
     "execution_count": 17,
     "metadata": {},
     "output_type": "execute_result"
    }
   ],
   "source": [
    "np.var(sourceid_counts.counts)"
   ]
  },
  {
   "cell_type": "markdown",
   "metadata": {},
   "source": [
    "Ok, cool. Let's append that column to our DataFrame, too:"
   ]
  },
  {
   "cell_type": "code",
   "execution_count": 18,
   "metadata": {},
   "outputs": [],
   "source": [
    "data_merged = data_merged.merge(sourceid_counts, on=\"number_mp\")"
   ]
  },
  {
   "cell_type": "code",
   "execution_count": 19,
   "metadata": {},
   "outputs": [
    {
     "data": {
      "text/html": [
       "<div>\n",
       "<style scoped>\n",
       "    .dataframe tbody tr th:only-of-type {\n",
       "        vertical-align: middle;\n",
       "    }\n",
       "\n",
       "    .dataframe tbody tr th {\n",
       "        vertical-align: top;\n",
       "    }\n",
       "\n",
       "    .dataframe thead th {\n",
       "        text-align: right;\n",
       "    }\n",
       "</style>\n",
       "<table border=\"1\" class=\"dataframe\">\n",
       "  <thead>\n",
       "    <tr style=\"text-align: right;\">\n",
       "      <th></th>\n",
       "      <th>number_mp</th>\n",
       "      <th>epoch</th>\n",
       "      <th>ra</th>\n",
       "      <th>dec</th>\n",
       "      <th>g_mag</th>\n",
       "      <th>g_flux</th>\n",
       "      <th>g_flux_error</th>\n",
       "      <th>position_angle_scan</th>\n",
       "      <th>num_of_obs</th>\n",
       "      <th>denomination</th>\n",
       "      <th>counts</th>\n",
       "    </tr>\n",
       "  </thead>\n",
       "  <tbody>\n",
       "    <tr>\n",
       "      <th>0</th>\n",
       "      <td>26520</td>\n",
       "      <td>2132.117075</td>\n",
       "      <td>338.836562</td>\n",
       "      <td>-27.330300</td>\n",
       "      <td>16.817157</td>\n",
       "      <td>3535.764628</td>\n",
       "      <td>11.155904</td>\n",
       "      <td>289.327370</td>\n",
       "      <td>87</td>\n",
       "      <td>2000 cq75</td>\n",
       "      <td>32</td>\n",
       "    </tr>\n",
       "    <tr>\n",
       "      <th>1</th>\n",
       "      <td>26520</td>\n",
       "      <td>2132.117132</td>\n",
       "      <td>338.836575</td>\n",
       "      <td>-27.330279</td>\n",
       "      <td>16.817157</td>\n",
       "      <td>3535.764628</td>\n",
       "      <td>11.155904</td>\n",
       "      <td>289.327470</td>\n",
       "      <td>87</td>\n",
       "      <td>2000 cq75</td>\n",
       "      <td>32</td>\n",
       "    </tr>\n",
       "    <tr>\n",
       "      <th>2</th>\n",
       "      <td>26520</td>\n",
       "      <td>2132.117188</td>\n",
       "      <td>338.836586</td>\n",
       "      <td>-27.330262</td>\n",
       "      <td>16.817157</td>\n",
       "      <td>3535.764628</td>\n",
       "      <td>11.155904</td>\n",
       "      <td>289.327572</td>\n",
       "      <td>87</td>\n",
       "      <td>2000 cq75</td>\n",
       "      <td>32</td>\n",
       "    </tr>\n",
       "    <tr>\n",
       "      <th>3</th>\n",
       "      <td>26520</td>\n",
       "      <td>2132.117244</td>\n",
       "      <td>338.836580</td>\n",
       "      <td>-27.330289</td>\n",
       "      <td>16.817157</td>\n",
       "      <td>3535.764628</td>\n",
       "      <td>11.155904</td>\n",
       "      <td>289.327681</td>\n",
       "      <td>87</td>\n",
       "      <td>2000 cq75</td>\n",
       "      <td>32</td>\n",
       "    </tr>\n",
       "    <tr>\n",
       "      <th>4</th>\n",
       "      <td>26520</td>\n",
       "      <td>2132.117300</td>\n",
       "      <td>338.836592</td>\n",
       "      <td>-27.330271</td>\n",
       "      <td>16.817157</td>\n",
       "      <td>3535.764628</td>\n",
       "      <td>11.155904</td>\n",
       "      <td>289.327782</td>\n",
       "      <td>87</td>\n",
       "      <td>2000 cq75</td>\n",
       "      <td>32</td>\n",
       "    </tr>\n",
       "  </tbody>\n",
       "</table>\n",
       "</div>"
      ],
      "text/plain": [
       "   number_mp        epoch          ra        dec      g_mag       g_flux  \\\n",
       "0      26520  2132.117075  338.836562 -27.330300  16.817157  3535.764628   \n",
       "1      26520  2132.117132  338.836575 -27.330279  16.817157  3535.764628   \n",
       "2      26520  2132.117188  338.836586 -27.330262  16.817157  3535.764628   \n",
       "3      26520  2132.117244  338.836580 -27.330289  16.817157  3535.764628   \n",
       "4      26520  2132.117300  338.836592 -27.330271  16.817157  3535.764628   \n",
       "\n",
       "   g_flux_error  position_angle_scan  num_of_obs denomination  counts  \n",
       "0     11.155904           289.327370          87    2000 cq75      32  \n",
       "1     11.155904           289.327470          87    2000 cq75      32  \n",
       "2     11.155904           289.327572          87    2000 cq75      32  \n",
       "3     11.155904           289.327681          87    2000 cq75      32  \n",
       "4     11.155904           289.327782          87    2000 cq75      32  "
      ]
     },
     "execution_count": 19,
     "metadata": {},
     "output_type": "execute_result"
    }
   ],
   "source": [
    "data_merged.head()"
   ]
  },
  {
   "cell_type": "markdown",
   "metadata": {},
   "source": [
    "That information now sits in the `counts` column."
   ]
  },
  {
   "cell_type": "markdown",
   "metadata": {},
   "source": [
    "### Adding Minor Planet Center Data\n",
    "\n",
    "For this part, you'll need the [MPCORB.DAT file](https://minorplanetcenter.net/data), which includes the orbital information for *all* the asteroids in the [Minor Planet Center](https://minorplanetcenter.net) database.\n",
    "\n",
    "Because this file is huge, we're going to extract just a few columns from it that we're interested in:"
   ]
  },
  {
   "cell_type": "code",
   "execution_count": 20,
   "metadata": {},
   "outputs": [
    {
     "name": "stderr",
     "output_type": "stream",
     "text": [
      "/opt/local/Library/Frameworks/Python.framework/Versions/3.6/lib/python3.6/site-packages/ipykernel_launcher.py:7: ParserWarning: Falling back to the 'python' engine because the 'c' engine does not support regex separators (separators > 1 char and different from '\\s+' are interpreted as regex); you can avoid this warning by specifying engine='python'.\n",
      "  import sys\n",
      "/opt/local/Library/Frameworks/Python.framework/Versions/3.6/lib/python3.6/site-packages/pandas/io/parsers.py:2227: FutureWarning: split() requires a non-empty pattern match.\n",
      "  yield pat.split(line.strip())\n",
      "/opt/local/Library/Frameworks/Python.framework/Versions/3.6/lib/python3.6/site-packages/pandas/io/parsers.py:2229: FutureWarning: split() requires a non-empty pattern match.\n",
      "  yield pat.split(line.strip())\n"
     ]
    }
   ],
   "source": [
    "mpc_cols = [\"number_mp\", \"abs_mag_h\", \n",
    "            \"inclination\", \"ecc\", \n",
    "            \"semimajor_axis\"]\n",
    "\n",
    "mpc = pd.read_csv(datadir+\"MPCORB.DAT\", skiprows=3, sep=\"\\s*\", \n",
    "                  usecols=[0, 1, 7, 8, 10],\n",
    "                  names = mpc_cols)"
   ]
  },
  {
   "cell_type": "code",
   "execution_count": 21,
   "metadata": {},
   "outputs": [
    {
     "data": {
      "text/html": [
       "<div>\n",
       "<style scoped>\n",
       "    .dataframe tbody tr th:only-of-type {\n",
       "        vertical-align: middle;\n",
       "    }\n",
       "\n",
       "    .dataframe tbody tr th {\n",
       "        vertical-align: top;\n",
       "    }\n",
       "\n",
       "    .dataframe thead th {\n",
       "        text-align: right;\n",
       "    }\n",
       "</style>\n",
       "<table border=\"1\" class=\"dataframe\">\n",
       "  <thead>\n",
       "    <tr style=\"text-align: right;\">\n",
       "      <th></th>\n",
       "      <th>number_mp</th>\n",
       "      <th>abs_mag_h</th>\n",
       "      <th>inclination</th>\n",
       "      <th>ecc</th>\n",
       "      <th>semimajor_axis</th>\n",
       "    </tr>\n",
       "  </thead>\n",
       "  <tbody>\n",
       "    <tr>\n",
       "      <th>0</th>\n",
       "      <td>00001</td>\n",
       "      <td>3.34</td>\n",
       "      <td>10.59351</td>\n",
       "      <td>0.075535</td>\n",
       "      <td>2.7670463</td>\n",
       "    </tr>\n",
       "    <tr>\n",
       "      <th>1</th>\n",
       "      <td>00002</td>\n",
       "      <td>4.13</td>\n",
       "      <td>34.83687</td>\n",
       "      <td>0.230506</td>\n",
       "      <td>2.7727662</td>\n",
       "    </tr>\n",
       "    <tr>\n",
       "      <th>2</th>\n",
       "      <td>00003</td>\n",
       "      <td>5.33</td>\n",
       "      <td>12.98973</td>\n",
       "      <td>0.256888</td>\n",
       "      <td>2.6688514</td>\n",
       "    </tr>\n",
       "    <tr>\n",
       "      <th>3</th>\n",
       "      <td>00004</td>\n",
       "      <td>3.20</td>\n",
       "      <td>7.14071</td>\n",
       "      <td>0.089068</td>\n",
       "      <td>2.3621036</td>\n",
       "    </tr>\n",
       "    <tr>\n",
       "      <th>4</th>\n",
       "      <td>00005</td>\n",
       "      <td>6.85</td>\n",
       "      <td>5.36774</td>\n",
       "      <td>0.191359</td>\n",
       "      <td>2.5734866</td>\n",
       "    </tr>\n",
       "  </tbody>\n",
       "</table>\n",
       "</div>"
      ],
      "text/plain": [
       "  number_mp abs_mag_h  inclination       ecc semimajor_axis\n",
       "0     00001      3.34     10.59351  0.075535      2.7670463\n",
       "1     00002      4.13     34.83687  0.230506      2.7727662\n",
       "2     00003      5.33     12.98973  0.256888      2.6688514\n",
       "3     00004      3.20      7.14071  0.089068      2.3621036\n",
       "4     00005      6.85      5.36774  0.191359      2.5734866"
      ]
     },
     "execution_count": 21,
     "metadata": {},
     "output_type": "execute_result"
    }
   ],
   "source": [
    "mpc.head()"
   ]
  },
  {
   "cell_type": "markdown",
   "metadata": {},
   "source": [
    "There is a lot of data in there that we don't need, because many of the asteroids don't have numerical descriptors. I don't know what those are, but I know I don't have any of those in the Gaia dataset, anyway, so I'm going to exclude them:"
   ]
  },
  {
   "cell_type": "code",
   "execution_count": 22,
   "metadata": {},
   "outputs": [],
   "source": [
    "mpc = mpc[:99998]"
   ]
  },
  {
   "cell_type": "markdown",
   "metadata": {},
   "source": [
    "We need to transform the `number_mp` column with the MPC designation into a numerical column so that we can match it up with our Gaia data:"
   ]
  },
  {
   "cell_type": "code",
   "execution_count": 23,
   "metadata": {},
   "outputs": [],
   "source": [
    "mpc[\"number_mp\"] = pd.to_numeric(mpc[\"number_mp\"])"
   ]
  },
  {
   "cell_type": "code",
   "execution_count": 24,
   "metadata": {},
   "outputs": [],
   "source": [
    "mpc = mpc.set_index(\"number_mp\")"
   ]
  },
  {
   "cell_type": "markdown",
   "metadata": {},
   "source": [
    "Now let's extract only the MPC data for the asteroids that we actually have in our Gaia data:"
   ]
  },
  {
   "cell_type": "code",
   "execution_count": 25,
   "metadata": {},
   "outputs": [
    {
     "name": "stderr",
     "output_type": "stream",
     "text": [
      "/opt/local/Library/Frameworks/Python.framework/Versions/3.6/lib/python3.6/site-packages/ipykernel_launcher.py:1: FutureWarning: \n",
      "Passing list-likes to .loc or [] with any missing label will raise\n",
      "KeyError in the future, you can use .reindex() as an alternative.\n",
      "\n",
      "See the documentation here:\n",
      "http://pandas.pydata.org/pandas-docs/stable/indexing.html#deprecate-loc-reindex-listlike\n",
      "  \"\"\"Entry point for launching an IPython kernel.\n"
     ]
    }
   ],
   "source": [
    "mpc = mpc.loc[data_merged[\"number_mp\"].unique()]"
   ]
  },
  {
   "cell_type": "markdown",
   "metadata": {},
   "source": [
    "We're going to also calculate some really simplistic (probably wrong) cuts based on eccentricity. This is based on Figure 17 in the [Gaia Solar System Objects paper](https://arxiv.org/abs/1804.09379): "
   ]
  },
  {
   "cell_type": "code",
   "execution_count": 26,
   "metadata": {},
   "outputs": [],
   "source": [
    "# initialize empty series for the type\n",
    "mpc[\"type\"] = np.zeros(len(mpc), dtype=str)\n",
    "# make semimajor axis into a float array\n",
    "mpc[\"semimajor_axis\"] = np.array(mpc[\"semimajor_axis\"], dtype=float)\n",
    "# make cuts and set type to the correct name\n",
    "mpc.loc[mpc[\"semimajor_axis\"] > 10, \"type\"] = \"Transneptunian Object\"\n",
    "mpc.loc[(mpc[\"semimajor_axis\"] > 4.5) & (mpc[\"semimajor_axis\"] < 10), \"type\"] = \"Jupiter Trojans\"\n",
    "mpc.loc[(mpc[\"semimajor_axis\"] > 1.5) & (mpc[\"semimajor_axis\"] < 4.5), \"type\"] = \"Main-Belt Asteroids\"\n",
    "mpc.loc[(mpc[\"semimajor_axis\"] <= 1.5), \"type\"] = \"Near-Earth Objects\""
   ]
  },
  {
   "cell_type": "markdown",
   "metadata": {},
   "source": [
    "Let's merge this information with our Gaia data:"
   ]
  },
  {
   "cell_type": "code",
   "execution_count": 27,
   "metadata": {},
   "outputs": [],
   "source": [
    "data_merged = data_merged.join(mpc, how=\"right\", on=\"number_mp\")"
   ]
  },
  {
   "cell_type": "code",
   "execution_count": 28,
   "metadata": {},
   "outputs": [
    {
     "data": {
      "text/html": [
       "<div>\n",
       "<style scoped>\n",
       "    .dataframe tbody tr th:only-of-type {\n",
       "        vertical-align: middle;\n",
       "    }\n",
       "\n",
       "    .dataframe tbody tr th {\n",
       "        vertical-align: top;\n",
       "    }\n",
       "\n",
       "    .dataframe thead th {\n",
       "        text-align: right;\n",
       "    }\n",
       "</style>\n",
       "<table border=\"1\" class=\"dataframe\">\n",
       "  <thead>\n",
       "    <tr style=\"text-align: right;\">\n",
       "      <th></th>\n",
       "      <th>number_mp</th>\n",
       "      <th>epoch</th>\n",
       "      <th>ra</th>\n",
       "      <th>dec</th>\n",
       "      <th>g_mag</th>\n",
       "      <th>g_flux</th>\n",
       "      <th>g_flux_error</th>\n",
       "      <th>position_angle_scan</th>\n",
       "      <th>num_of_obs</th>\n",
       "      <th>denomination</th>\n",
       "      <th>counts</th>\n",
       "      <th>abs_mag_h</th>\n",
       "      <th>inclination</th>\n",
       "      <th>ecc</th>\n",
       "      <th>semimajor_axis</th>\n",
       "      <th>type</th>\n",
       "    </tr>\n",
       "  </thead>\n",
       "  <tbody>\n",
       "    <tr>\n",
       "      <th>0</th>\n",
       "      <td>26520</td>\n",
       "      <td>2132.117075</td>\n",
       "      <td>338.836562</td>\n",
       "      <td>-27.330300</td>\n",
       "      <td>16.817157</td>\n",
       "      <td>3535.764628</td>\n",
       "      <td>11.155904</td>\n",
       "      <td>289.327370</td>\n",
       "      <td>87</td>\n",
       "      <td>2000 cq75</td>\n",
       "      <td>32</td>\n",
       "      <td>13.0</td>\n",
       "      <td>15.23213</td>\n",
       "      <td>0.262485</td>\n",
       "      <td>2.683274</td>\n",
       "      <td>Main-Belt Asteroids</td>\n",
       "    </tr>\n",
       "    <tr>\n",
       "      <th>1</th>\n",
       "      <td>26520</td>\n",
       "      <td>2132.117132</td>\n",
       "      <td>338.836575</td>\n",
       "      <td>-27.330279</td>\n",
       "      <td>16.817157</td>\n",
       "      <td>3535.764628</td>\n",
       "      <td>11.155904</td>\n",
       "      <td>289.327470</td>\n",
       "      <td>87</td>\n",
       "      <td>2000 cq75</td>\n",
       "      <td>32</td>\n",
       "      <td>13.0</td>\n",
       "      <td>15.23213</td>\n",
       "      <td>0.262485</td>\n",
       "      <td>2.683274</td>\n",
       "      <td>Main-Belt Asteroids</td>\n",
       "    </tr>\n",
       "    <tr>\n",
       "      <th>2</th>\n",
       "      <td>26520</td>\n",
       "      <td>2132.117188</td>\n",
       "      <td>338.836586</td>\n",
       "      <td>-27.330262</td>\n",
       "      <td>16.817157</td>\n",
       "      <td>3535.764628</td>\n",
       "      <td>11.155904</td>\n",
       "      <td>289.327572</td>\n",
       "      <td>87</td>\n",
       "      <td>2000 cq75</td>\n",
       "      <td>32</td>\n",
       "      <td>13.0</td>\n",
       "      <td>15.23213</td>\n",
       "      <td>0.262485</td>\n",
       "      <td>2.683274</td>\n",
       "      <td>Main-Belt Asteroids</td>\n",
       "    </tr>\n",
       "    <tr>\n",
       "      <th>3</th>\n",
       "      <td>26520</td>\n",
       "      <td>2132.117244</td>\n",
       "      <td>338.836580</td>\n",
       "      <td>-27.330289</td>\n",
       "      <td>16.817157</td>\n",
       "      <td>3535.764628</td>\n",
       "      <td>11.155904</td>\n",
       "      <td>289.327681</td>\n",
       "      <td>87</td>\n",
       "      <td>2000 cq75</td>\n",
       "      <td>32</td>\n",
       "      <td>13.0</td>\n",
       "      <td>15.23213</td>\n",
       "      <td>0.262485</td>\n",
       "      <td>2.683274</td>\n",
       "      <td>Main-Belt Asteroids</td>\n",
       "    </tr>\n",
       "    <tr>\n",
       "      <th>4</th>\n",
       "      <td>26520</td>\n",
       "      <td>2132.117300</td>\n",
       "      <td>338.836592</td>\n",
       "      <td>-27.330271</td>\n",
       "      <td>16.817157</td>\n",
       "      <td>3535.764628</td>\n",
       "      <td>11.155904</td>\n",
       "      <td>289.327782</td>\n",
       "      <td>87</td>\n",
       "      <td>2000 cq75</td>\n",
       "      <td>32</td>\n",
       "      <td>13.0</td>\n",
       "      <td>15.23213</td>\n",
       "      <td>0.262485</td>\n",
       "      <td>2.683274</td>\n",
       "      <td>Main-Belt Asteroids</td>\n",
       "    </tr>\n",
       "  </tbody>\n",
       "</table>\n",
       "</div>"
      ],
      "text/plain": [
       "   number_mp        epoch          ra        dec      g_mag       g_flux  \\\n",
       "0      26520  2132.117075  338.836562 -27.330300  16.817157  3535.764628   \n",
       "1      26520  2132.117132  338.836575 -27.330279  16.817157  3535.764628   \n",
       "2      26520  2132.117188  338.836586 -27.330262  16.817157  3535.764628   \n",
       "3      26520  2132.117244  338.836580 -27.330289  16.817157  3535.764628   \n",
       "4      26520  2132.117300  338.836592 -27.330271  16.817157  3535.764628   \n",
       "\n",
       "   g_flux_error  position_angle_scan  num_of_obs denomination  counts  \\\n",
       "0     11.155904           289.327370          87    2000 cq75      32   \n",
       "1     11.155904           289.327470          87    2000 cq75      32   \n",
       "2     11.155904           289.327572          87    2000 cq75      32   \n",
       "3     11.155904           289.327681          87    2000 cq75      32   \n",
       "4     11.155904           289.327782          87    2000 cq75      32   \n",
       "\n",
       "  abs_mag_h  inclination       ecc  semimajor_axis                 type  \n",
       "0      13.0     15.23213  0.262485        2.683274  Main-Belt Asteroids  \n",
       "1      13.0     15.23213  0.262485        2.683274  Main-Belt Asteroids  \n",
       "2      13.0     15.23213  0.262485        2.683274  Main-Belt Asteroids  \n",
       "3      13.0     15.23213  0.262485        2.683274  Main-Belt Asteroids  \n",
       "4      13.0     15.23213  0.262485        2.683274  Main-Belt Asteroids  "
      ]
     },
     "execution_count": 28,
     "metadata": {},
     "output_type": "execute_result"
    }
   ],
   "source": [
    "data_merged.head()"
   ]
  },
  {
   "cell_type": "markdown",
   "metadata": {},
   "source": [
    "Did we loose any of our asteroids?"
   ]
  },
  {
   "cell_type": "code",
   "execution_count": 29,
   "metadata": {},
   "outputs": [
    {
     "data": {
      "text/plain": [
       "14099"
      ]
     },
     "execution_count": 29,
     "metadata": {},
     "output_type": "execute_result"
    }
   ],
   "source": [
    "len(data_merged[\"number_mp\"].unique())"
   ]
  },
  {
   "cell_type": "markdown",
   "metadata": {},
   "source": [
    "Let's store this data in two different json files for plotting: one with all the data points, and one with a random subset of 1400 asteroids:"
   ]
  },
  {
   "cell_type": "code",
   "execution_count": 30,
   "metadata": {},
   "outputs": [],
   "source": [
    "outfile = \"gaiadr2_mpc_full.json\"\n",
    "data_merged.to_json(datadir+outfile, orient=\"records\")"
   ]
  },
  {
   "cell_type": "code",
   "execution_count": 31,
   "metadata": {},
   "outputs": [],
   "source": [
    "outfile_small = \"gaiadr2_mpc_small.json\"\n",
    "\n",
    "# random subset of asteroids\n",
    "random_sel = np.random.choice(data_merged.number_mp.unique(), \n",
    "                              replace=False, size=1500)\n",
    "\n",
    "# select only asteroids with those chosen MPC designations\n",
    "data_sel = data_merged.loc[data_merged[\"number_mp\"].isin(random_sel)]\n",
    "\n",
    "data_sel.to_json(datadir+outfile_small, orient=\"records\")"
   ]
  },
  {
   "cell_type": "markdown",
   "metadata": {},
   "source": [
    "Let's also save them in csv-files for compatibility:"
   ]
  },
  {
   "cell_type": "code",
   "execution_count": 32,
   "metadata": {},
   "outputs": [],
   "source": [
    "outfile = \"gaiadr2_mpc_full.csv\"\n",
    "data_merged.to_csv(datadir+outfile)"
   ]
  },
  {
   "cell_type": "code",
   "execution_count": 33,
   "metadata": {},
   "outputs": [],
   "source": [
    "outfile_small = \"gaiadr2_mpc_small.csv\"\n",
    "\n",
    "# random subset of asteroids\n",
    "random_sel = np.random.choice(data_merged.number_mp.unique(), \n",
    "                              replace=False, size=1500)\n",
    "\n",
    "# select only asteroids with those chosen MPC designations\n",
    "data_sel = data_merged.loc[data_merged[\"number_mp\"].isin(random_sel)]\n",
    "\n",
    "data_sel.to_csv(datadir+outfile_small)"
   ]
  },
  {
   "cell_type": "markdown",
   "metadata": {},
   "source": [
    "### SDSS Colours\n",
    "\n",
    "Gaia has only released g-band magnitudes for the solar system objects. To augment this data, we're going to include measurements from the Sloan Digital Sky Survey, which has observed hundreds of thousands of asteroids. \n",
    "\n",
    "You can find the description and the data file for download [here](http://faculty.washington.edu/ivezic/sdssmoc/sdssmoc.html). \n",
    "\n",
    "Again, this is a huge file, and we need only a few columns, so let's just download those:"
   ]
  },
  {
   "cell_type": "code",
   "execution_count": 34,
   "metadata": {},
   "outputs": [],
   "source": [
    "sdss_names = [\"u\", \"g\", \"r\", \"i\", \"z\", \"number_mp\", \"sdss_desig\", \"h-mag\"]\n",
    "sdss_cols = [19, 21, 23, 25, 27, 34, 35, 46]\n"
   ]
  },
  {
   "cell_type": "code",
   "execution_count": 35,
   "metadata": {},
   "outputs": [
    {
     "name": "stderr",
     "output_type": "stream",
     "text": [
      "/opt/local/Library/Frameworks/Python.framework/Versions/3.6/lib/python3.6/site-packages/ipykernel_launcher.py:3: ParserWarning: Falling back to the 'python' engine because the 'c' engine does not support regex separators (separators > 1 char and different from '\\s+' are interpreted as regex); you can avoid this warning by specifying engine='python'.\n",
      "  This is separate from the ipykernel package so we can avoid doing imports until\n",
      "/opt/local/Library/Frameworks/Python.framework/Versions/3.6/lib/python3.6/site-packages/pandas/io/parsers.py:2227: FutureWarning: split() requires a non-empty pattern match.\n",
      "  yield pat.split(line.strip())\n",
      "/opt/local/Library/Frameworks/Python.framework/Versions/3.6/lib/python3.6/site-packages/pandas/io/parsers.py:2229: FutureWarning: split() requires a non-empty pattern match.\n",
      "  yield pat.split(line.strip())\n"
     ]
    }
   ],
   "source": [
    "sdss = pd.read_csv(datadir+\"ADR4.dat\", sep=\"\\s*\",  \n",
    "                   usecols= sdss_cols,\n",
    "                   names = sdss_names)"
   ]
  },
  {
   "cell_type": "code",
   "execution_count": 36,
   "metadata": {},
   "outputs": [
    {
     "data": {
      "text/html": [
       "<div>\n",
       "<style scoped>\n",
       "    .dataframe tbody tr th:only-of-type {\n",
       "        vertical-align: middle;\n",
       "    }\n",
       "\n",
       "    .dataframe tbody tr th {\n",
       "        vertical-align: top;\n",
       "    }\n",
       "\n",
       "    .dataframe thead th {\n",
       "        text-align: right;\n",
       "    }\n",
       "</style>\n",
       "<table border=\"1\" class=\"dataframe\">\n",
       "  <thead>\n",
       "    <tr style=\"text-align: right;\">\n",
       "      <th></th>\n",
       "      <th>u</th>\n",
       "      <th>g</th>\n",
       "      <th>r</th>\n",
       "      <th>i</th>\n",
       "      <th>z</th>\n",
       "      <th>number_mp</th>\n",
       "      <th>sdss_desig</th>\n",
       "      <th>h-mag</th>\n",
       "    </tr>\n",
       "  </thead>\n",
       "  <tbody>\n",
       "    <tr>\n",
       "      <th>0</th>\n",
       "      <td>23.51</td>\n",
       "      <td>21.55</td>\n",
       "      <td>21.14</td>\n",
       "      <td>20.87</td>\n",
       "      <td>20.89</td>\n",
       "      <td>0</td>\n",
       "      <td>-</td>\n",
       "      <td>0.00</td>\n",
       "    </tr>\n",
       "    <tr>\n",
       "      <th>1</th>\n",
       "      <td>21.81</td>\n",
       "      <td>20.32</td>\n",
       "      <td>19.77</td>\n",
       "      <td>19.56</td>\n",
       "      <td>19.44</td>\n",
       "      <td>62869</td>\n",
       "      <td>2000_UO84</td>\n",
       "      <td>14.60</td>\n",
       "    </tr>\n",
       "    <tr>\n",
       "      <th>2</th>\n",
       "      <td>25.02</td>\n",
       "      <td>23.43</td>\n",
       "      <td>21.50</td>\n",
       "      <td>20.68</td>\n",
       "      <td>20.14</td>\n",
       "      <td>0</td>\n",
       "      <td>-</td>\n",
       "      <td>0.00</td>\n",
       "    </tr>\n",
       "    <tr>\n",
       "      <th>3</th>\n",
       "      <td>23.28</td>\n",
       "      <td>21.48</td>\n",
       "      <td>20.78</td>\n",
       "      <td>20.75</td>\n",
       "      <td>20.93</td>\n",
       "      <td>0</td>\n",
       "      <td>2004_TG250</td>\n",
       "      <td>16.86</td>\n",
       "    </tr>\n",
       "    <tr>\n",
       "      <th>4</th>\n",
       "      <td>19.69</td>\n",
       "      <td>17.91</td>\n",
       "      <td>17.32</td>\n",
       "      <td>17.10</td>\n",
       "      <td>17.05</td>\n",
       "      <td>5212</td>\n",
       "      <td>1989_SS</td>\n",
       "      <td>11.60</td>\n",
       "    </tr>\n",
       "  </tbody>\n",
       "</table>\n",
       "</div>"
      ],
      "text/plain": [
       "       u      g      r      i      z  number_mp  sdss_desig  h-mag\n",
       "0  23.51  21.55  21.14  20.87  20.89          0           -   0.00\n",
       "1  21.81  20.32  19.77  19.56  19.44      62869   2000_UO84  14.60\n",
       "2  25.02  23.43  21.50  20.68  20.14          0           -   0.00\n",
       "3  23.28  21.48  20.78  20.75  20.93          0  2004_TG250  16.86\n",
       "4  19.69  17.91  17.32  17.10  17.05       5212     1989_SS  11.60"
      ]
     },
     "execution_count": 36,
     "metadata": {},
     "output_type": "execute_result"
    }
   ],
   "source": [
    "sdss.head()"
   ]
  },
  {
   "cell_type": "markdown",
   "metadata": {},
   "source": [
    "Again, we need to transform the `number_mp` column to match it with the column in our Gaia DataFrame of the same name:"
   ]
  },
  {
   "cell_type": "code",
   "execution_count": 37,
   "metadata": {},
   "outputs": [],
   "source": [
    "sdss[\"number_mp\"] = pd.to_numeric(sdss[\"number_mp\"])\n",
    "sdss = sdss.set_index(\"number_mp\")"
   ]
  },
  {
   "cell_type": "code",
   "execution_count": 38,
   "metadata": {},
   "outputs": [
    {
     "name": "stderr",
     "output_type": "stream",
     "text": [
      "/opt/local/Library/Frameworks/Python.framework/Versions/3.6/lib/python3.6/site-packages/ipykernel_launcher.py:1: FutureWarning: \n",
      "Passing list-likes to .loc or [] with any missing label will raise\n",
      "KeyError in the future, you can use .reindex() as an alternative.\n",
      "\n",
      "See the documentation here:\n",
      "http://pandas.pydata.org/pandas-docs/stable/indexing.html#deprecate-loc-reindex-listlike\n",
      "  \"\"\"Entry point for launching an IPython kernel.\n"
     ]
    }
   ],
   "source": [
    "sdss = sdss.loc[data_merged[\"number_mp\"].unique()]"
   ]
  },
  {
   "cell_type": "markdown",
   "metadata": {},
   "source": [
    "We're going to drop some NaNs:"
   ]
  },
  {
   "cell_type": "code",
   "execution_count": 39,
   "metadata": {},
   "outputs": [],
   "source": [
    "sdss = sdss.dropna()"
   ]
  },
  {
   "cell_type": "code",
   "execution_count": 40,
   "metadata": {},
   "outputs": [
    {
     "data": {
      "text/plain": [
       "8921"
      ]
     },
     "execution_count": 40,
     "metadata": {},
     "output_type": "execute_result"
    }
   ],
   "source": [
    "len(sdss)"
   ]
  },
  {
   "cell_type": "markdown",
   "metadata": {},
   "source": [
    "Okay, this means that the combined SDSS+Gaia+MPC data will only contain a subset of ~2/3 of the original Gaia data. Oh well, that's annoying, but not a huge problem.\n",
    "\n",
    "Before we merge, there are also a few cases where the magnitudes are not NaN, but still not reasonable values. Let's drop those, too:"
   ]
  },
  {
   "cell_type": "code",
   "execution_count": 41,
   "metadata": {},
   "outputs": [],
   "source": [
    "sdss = sdss.drop(sdss[sdss[\"u\"] == np.max(sdss[\"u\"])].index)\n",
    "sdss = sdss.drop(sdss[sdss[\"g\"] == np.max(sdss[\"g\"])].index)\n",
    "sdss = sdss.drop(sdss[sdss[\"z\"] == np.max(sdss[\"z\"])].index)"
   ]
  },
  {
   "cell_type": "code",
   "execution_count": 42,
   "metadata": {},
   "outputs": [
    {
     "data": {
      "text/plain": [
       "8854"
      ]
     },
     "execution_count": 42,
     "metadata": {},
     "output_type": "execute_result"
    }
   ],
   "source": [
    "len(sdss)"
   ]
  },
  {
   "cell_type": "markdown",
   "metadata": {},
   "source": [
    "Let's also make some colours:"
   ]
  },
  {
   "cell_type": "code",
   "execution_count": 43,
   "metadata": {},
   "outputs": [],
   "source": [
    "sdss[\"u_g\"] = sdss[\"u\"] - sdss[\"g\"]\n",
    "sdss[\"g_r\"] = sdss[\"g\"] - sdss[\"r\"]\n",
    "sdss[\"r_i\"] = sdss[\"r\"] - sdss[\"i\"]\n",
    "sdss[\"i_z\"] = sdss[\"i\"] - sdss[\"z\"]"
   ]
  },
  {
   "cell_type": "markdown",
   "metadata": {},
   "source": [
    "And we'll make the colour from [Parker et al, 2008](https://arxiv.org/abs/0807.3762):"
   ]
  },
  {
   "cell_type": "code",
   "execution_count": 44,
   "metadata": {},
   "outputs": [],
   "source": [
    "sdss[\"sdss_colour\"] = 0.89*(sdss[\"g\"] - sdss[\"r\"]) + \\\n",
    "                      0.45*(sdss[\"r\"] - sdss[\"i\"]) - 0.57 "
   ]
  },
  {
   "cell_type": "markdown",
   "metadata": {},
   "source": [
    "Let's now join the two data frames:"
   ]
  },
  {
   "cell_type": "code",
   "execution_count": 45,
   "metadata": {},
   "outputs": [],
   "source": [
    "data_merged = data_merged.join(sdss, how=\"right\", on=\"number_mp\")"
   ]
  },
  {
   "cell_type": "code",
   "execution_count": 46,
   "metadata": {},
   "outputs": [
    {
     "data": {
      "text/html": [
       "<div>\n",
       "<style scoped>\n",
       "    .dataframe tbody tr th:only-of-type {\n",
       "        vertical-align: middle;\n",
       "    }\n",
       "\n",
       "    .dataframe tbody tr th {\n",
       "        vertical-align: top;\n",
       "    }\n",
       "\n",
       "    .dataframe thead th {\n",
       "        text-align: right;\n",
       "    }\n",
       "</style>\n",
       "<table border=\"1\" class=\"dataframe\">\n",
       "  <thead>\n",
       "    <tr style=\"text-align: right;\">\n",
       "      <th></th>\n",
       "      <th>number_mp</th>\n",
       "      <th>epoch</th>\n",
       "      <th>ra</th>\n",
       "      <th>dec</th>\n",
       "      <th>g_mag</th>\n",
       "      <th>g_flux</th>\n",
       "      <th>g_flux_error</th>\n",
       "      <th>position_angle_scan</th>\n",
       "      <th>num_of_obs</th>\n",
       "      <th>denomination</th>\n",
       "      <th>...</th>\n",
       "      <th>r</th>\n",
       "      <th>i</th>\n",
       "      <th>z</th>\n",
       "      <th>sdss_desig</th>\n",
       "      <th>h-mag</th>\n",
       "      <th>u_g</th>\n",
       "      <th>g_r</th>\n",
       "      <th>r_i</th>\n",
       "      <th>i_z</th>\n",
       "      <th>sdss_colour</th>\n",
       "    </tr>\n",
       "  </thead>\n",
       "  <tbody>\n",
       "    <tr>\n",
       "      <th>294</th>\n",
       "      <td>26563</td>\n",
       "      <td>2128.614560</td>\n",
       "      <td>86.930188</td>\n",
       "      <td>-0.861110</td>\n",
       "      <td>17.639699</td>\n",
       "      <td>1657.549663</td>\n",
       "      <td>5.989363</td>\n",
       "      <td>226.886862</td>\n",
       "      <td>308</td>\n",
       "      <td>2000 eg39</td>\n",
       "      <td>...</td>\n",
       "      <td>17.63</td>\n",
       "      <td>17.41</td>\n",
       "      <td>17.25</td>\n",
       "      <td>2000_EG39</td>\n",
       "      <td>12.5</td>\n",
       "      <td>1.4</td>\n",
       "      <td>0.55</td>\n",
       "      <td>0.22</td>\n",
       "      <td>0.16</td>\n",
       "      <td>0.0185</td>\n",
       "    </tr>\n",
       "    <tr>\n",
       "      <th>295</th>\n",
       "      <td>26563</td>\n",
       "      <td>2128.614616</td>\n",
       "      <td>86.930178</td>\n",
       "      <td>-0.861109</td>\n",
       "      <td>17.639699</td>\n",
       "      <td>1657.549663</td>\n",
       "      <td>5.989363</td>\n",
       "      <td>226.887046</td>\n",
       "      <td>308</td>\n",
       "      <td>2000 eg39</td>\n",
       "      <td>...</td>\n",
       "      <td>17.63</td>\n",
       "      <td>17.41</td>\n",
       "      <td>17.25</td>\n",
       "      <td>2000_EG39</td>\n",
       "      <td>12.5</td>\n",
       "      <td>1.4</td>\n",
       "      <td>0.55</td>\n",
       "      <td>0.22</td>\n",
       "      <td>0.16</td>\n",
       "      <td>0.0185</td>\n",
       "    </tr>\n",
       "    <tr>\n",
       "      <th>296</th>\n",
       "      <td>26563</td>\n",
       "      <td>2128.614672</td>\n",
       "      <td>86.930204</td>\n",
       "      <td>-0.861148</td>\n",
       "      <td>17.639699</td>\n",
       "      <td>1657.549663</td>\n",
       "      <td>5.989363</td>\n",
       "      <td>226.887230</td>\n",
       "      <td>308</td>\n",
       "      <td>2000 eg39</td>\n",
       "      <td>...</td>\n",
       "      <td>17.63</td>\n",
       "      <td>17.41</td>\n",
       "      <td>17.25</td>\n",
       "      <td>2000_EG39</td>\n",
       "      <td>12.5</td>\n",
       "      <td>1.4</td>\n",
       "      <td>0.55</td>\n",
       "      <td>0.22</td>\n",
       "      <td>0.16</td>\n",
       "      <td>0.0185</td>\n",
       "    </tr>\n",
       "    <tr>\n",
       "      <th>297</th>\n",
       "      <td>26563</td>\n",
       "      <td>2128.614728</td>\n",
       "      <td>86.930197</td>\n",
       "      <td>-0.861149</td>\n",
       "      <td>17.639699</td>\n",
       "      <td>1657.549663</td>\n",
       "      <td>5.989363</td>\n",
       "      <td>226.887414</td>\n",
       "      <td>308</td>\n",
       "      <td>2000 eg39</td>\n",
       "      <td>...</td>\n",
       "      <td>17.63</td>\n",
       "      <td>17.41</td>\n",
       "      <td>17.25</td>\n",
       "      <td>2000_EG39</td>\n",
       "      <td>12.5</td>\n",
       "      <td>1.4</td>\n",
       "      <td>0.55</td>\n",
       "      <td>0.22</td>\n",
       "      <td>0.16</td>\n",
       "      <td>0.0185</td>\n",
       "    </tr>\n",
       "    <tr>\n",
       "      <th>298</th>\n",
       "      <td>26563</td>\n",
       "      <td>2128.614785</td>\n",
       "      <td>86.930192</td>\n",
       "      <td>-0.861153</td>\n",
       "      <td>17.639699</td>\n",
       "      <td>1657.549663</td>\n",
       "      <td>5.989363</td>\n",
       "      <td>226.887597</td>\n",
       "      <td>308</td>\n",
       "      <td>2000 eg39</td>\n",
       "      <td>...</td>\n",
       "      <td>17.63</td>\n",
       "      <td>17.41</td>\n",
       "      <td>17.25</td>\n",
       "      <td>2000_EG39</td>\n",
       "      <td>12.5</td>\n",
       "      <td>1.4</td>\n",
       "      <td>0.55</td>\n",
       "      <td>0.22</td>\n",
       "      <td>0.16</td>\n",
       "      <td>0.0185</td>\n",
       "    </tr>\n",
       "  </tbody>\n",
       "</table>\n",
       "<p>5 rows × 28 columns</p>\n",
       "</div>"
      ],
      "text/plain": [
       "     number_mp        epoch         ra       dec      g_mag       g_flux  \\\n",
       "294      26563  2128.614560  86.930188 -0.861110  17.639699  1657.549663   \n",
       "295      26563  2128.614616  86.930178 -0.861109  17.639699  1657.549663   \n",
       "296      26563  2128.614672  86.930204 -0.861148  17.639699  1657.549663   \n",
       "297      26563  2128.614728  86.930197 -0.861149  17.639699  1657.549663   \n",
       "298      26563  2128.614785  86.930192 -0.861153  17.639699  1657.549663   \n",
       "\n",
       "     g_flux_error  position_angle_scan  num_of_obs denomination     ...       \\\n",
       "294      5.989363           226.886862         308    2000 eg39     ...        \n",
       "295      5.989363           226.887046         308    2000 eg39     ...        \n",
       "296      5.989363           226.887230         308    2000 eg39     ...        \n",
       "297      5.989363           226.887414         308    2000 eg39     ...        \n",
       "298      5.989363           226.887597         308    2000 eg39     ...        \n",
       "\n",
       "         r      i      z  sdss_desig  h-mag  u_g   g_r   r_i   i_z  \\\n",
       "294  17.63  17.41  17.25   2000_EG39   12.5  1.4  0.55  0.22  0.16   \n",
       "295  17.63  17.41  17.25   2000_EG39   12.5  1.4  0.55  0.22  0.16   \n",
       "296  17.63  17.41  17.25   2000_EG39   12.5  1.4  0.55  0.22  0.16   \n",
       "297  17.63  17.41  17.25   2000_EG39   12.5  1.4  0.55  0.22  0.16   \n",
       "298  17.63  17.41  17.25   2000_EG39   12.5  1.4  0.55  0.22  0.16   \n",
       "\n",
       "     sdss_colour  \n",
       "294       0.0185  \n",
       "295       0.0185  \n",
       "296       0.0185  \n",
       "297       0.0185  \n",
       "298       0.0185  \n",
       "\n",
       "[5 rows x 28 columns]"
      ]
     },
     "execution_count": 46,
     "metadata": {},
     "output_type": "execute_result"
    }
   ],
   "source": [
    "data_merged.head()"
   ]
  },
  {
   "cell_type": "code",
   "execution_count": 47,
   "metadata": {},
   "outputs": [
    {
     "data": {
      "text/plain": [
       "640312"
      ]
     },
     "execution_count": 47,
     "metadata": {},
     "output_type": "execute_result"
    }
   ],
   "source": [
    "len(data_merged)"
   ]
  },
  {
   "cell_type": "markdown",
   "metadata": {},
   "source": [
    "There are still a bunch of measurements in there that aren't great (based on the SDSS u-band magnitude), so let's remove those:"
   ]
  },
  {
   "cell_type": "code",
   "execution_count": 48,
   "metadata": {},
   "outputs": [],
   "source": [
    "data_good = data_merged[(data_merged[\"u_g\"] < 2.5) & (data_merged[\"u_g\"] > -0.5)]"
   ]
  },
  {
   "cell_type": "markdown",
   "metadata": {},
   "source": [
    "Let's save the DataFrame to file, too:"
   ]
  },
  {
   "cell_type": "code",
   "execution_count": 49,
   "metadata": {},
   "outputs": [],
   "source": [
    "outfile = 'gaia_mpc_sdss_full.json'\n",
    "data_good.to_json(datadir+outfile, orient=\"records\")"
   ]
  },
  {
   "cell_type": "code",
   "execution_count": 50,
   "metadata": {},
   "outputs": [],
   "source": [
    "outfile = 'gaia_mpc_sdss_full.csv'\n",
    "data_good.to_csv(datadir+outfile)"
   ]
  },
  {
   "cell_type": "markdown",
   "metadata": {},
   "source": [
    "And we'll save a subset for easier plotting:"
   ]
  },
  {
   "cell_type": "code",
   "execution_count": 51,
   "metadata": {},
   "outputs": [],
   "source": [
    "random_sel = np.random.choice(data_good.number_mp.unique(),\n",
    "                              replace=False, size=1400)\n",
    "\n",
    "data_sel = data_good.loc[data_good[\"number_mp\"].isin(random_sel)]"
   ]
  },
  {
   "cell_type": "code",
   "execution_count": 52,
   "metadata": {},
   "outputs": [],
   "source": [
    "outfile = 'gaia_mpc_sdss_small.json'\n",
    "data_sel.to_json(datadir+outfile, orient=\"records\")"
   ]
  },
  {
   "cell_type": "code",
   "execution_count": 53,
   "metadata": {},
   "outputs": [],
   "source": [
    "outfile = 'gaia_mpc_sdss_small.csv'\n",
    "data_sel.to_csv(datadir+outfile)"
   ]
  },
  {
   "cell_type": "markdown",
   "metadata": {},
   "source": [
    "... and that's it for data preparation! We can now start plotting, but we'll do that elsewhere! "
   ]
  }
 ],
 "metadata": {
  "kernelspec": {
   "display_name": "Python 3",
   "language": "python",
   "name": "python3"
  },
  "language_info": {
   "codemirror_mode": {
    "name": "ipython",
    "version": 3
   },
   "file_extension": ".py",
   "mimetype": "text/x-python",
   "name": "python",
   "nbconvert_exporter": "python",
   "pygments_lexer": "ipython3",
   "version": "3.6.4"
  }
 },
 "nbformat": 4,
 "nbformat_minor": 2
}
